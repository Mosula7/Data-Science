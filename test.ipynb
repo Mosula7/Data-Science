{
 "cells": [
  {
   "cell_type": "code",
   "execution_count": 1,
   "metadata": {},
   "outputs": [],
   "source": [
    "import numpy as np\n",
    "import pandas as pd\n",
    "\n",
    "import torch\n",
    "import torch.nn as nn\n",
    "import torch.optim as optim\n",
    "import torchmetrics\n",
    "\n",
    "from TorchTemplates import SimpleBinaryClassificationNN as sbcnn\n",
    "from sklearn.model_selection import train_test_split\n",
    "from sklearn.preprocessing import StandardScaler"
   ]
  },
  {
   "cell_type": "code",
   "execution_count": 2,
   "metadata": {},
   "outputs": [],
   "source": [
    "df = pd.read_csv(r'C:/Users/User/Desktop/credit card/creditcard.csv').drop(columns=['Time'])\n",
    "\n",
    "train_val, test = train_test_split(df, test_size=.15, stratify=df['Class'])\n",
    "train, val = train_test_split(train_val, test_size=.2, stratify=train_val['Class'])"
   ]
  },
  {
   "cell_type": "code",
   "execution_count": 3,
   "metadata": {},
   "outputs": [
    {
     "data": {
      "text/plain": [
       "((193668, 30), (48417, 30), (42722, 30))"
      ]
     },
     "execution_count": 3,
     "metadata": {},
     "output_type": "execute_result"
    }
   ],
   "source": [
    "train.shape, val.shape, test.shape "
   ]
  },
  {
   "cell_type": "code",
   "execution_count": 4,
   "metadata": {},
   "outputs": [
    {
     "name": "stdout",
     "output_type": "stream",
     "text": [
      "0    0.998275\n",
      "1    0.001725\n",
      "Name: Class, dtype: float64\n",
      "0    0.998265\n",
      "1    0.001735\n",
      "Name: Class, dtype: float64\n",
      "0    0.998268\n",
      "1    0.001732\n",
      "Name: Class, dtype: float64\n"
     ]
    }
   ],
   "source": [
    "for i in (train, val, test):\n",
    "    print(i['Class'].value_counts(normalize=True))"
   ]
  },
  {
   "cell_type": "code",
   "execution_count": 5,
   "metadata": {},
   "outputs": [],
   "source": [
    "target = 'Class'\n",
    "\n",
    "X_train = train[train.columns.drop(target)]\n",
    "X_val = val[val.columns.drop(target)]\n",
    "X_test = test[test.columns.drop(target)]\n",
    "\n",
    "y_train = train[target]\n",
    "y_val = val[target]\n",
    "y_test = test[target]"
   ]
  },
  {
   "cell_type": "code",
   "execution_count": 6,
   "metadata": {},
   "outputs": [],
   "source": [
    "train_loader, scaler = sbcnn.make_loader(X_train, y_train, shuffle=True, batch_size=2048, fit_scaler=True, scaler=StandardScaler)\n",
    "val_loader = sbcnn.make_loader(X_val, y_val, X_val.shape[0], scaler=scaler)\n",
    "test_loader = sbcnn.make_loader(X_test, y_test, X_test.shape[0], scaler=scaler)"
   ]
  },
  {
   "cell_type": "code",
   "execution_count": 7,
   "metadata": {},
   "outputs": [
    {
     "name": "stdout",
     "output_type": "stream",
     "text": [
      "\n",
      "{\n",
      "'input': {'units':[None,None], 'batch_norm': None, 'dropout': None, 'activation': None},\n",
      "'fcn'  : {'units':[None,None], 'batch_norm': None, 'dropout': None, 'activation': None},\n",
      "'output':{'units':[None,None], 'batch_norm': None, 'dropout': None, 'activation': None}\n",
      "}\n",
      "\n"
     ]
    }
   ],
   "source": [
    "sbcnn.layer_template()"
   ]
  },
  {
   "cell_type": "code",
   "execution_count": 8,
   "metadata": {},
   "outputs": [],
   "source": [
    "model = sbcnn({\n",
    "'input':  {'units':[29,32], 'batch_norm': True, 'dropout': 0.5, 'activation': 'ReLU'},\n",
    "'fc1'  :  {'units':[32,8], 'batch_norm': True, 'dropout': 0.3, 'activation': 'ReLU'},\n",
    "'output': {'units':[8,1], 'batch_norm': None, 'dropout': 0.0, 'activation': None}\n",
    "},\n",
    "l1_lambda=0.01,\n",
    "l2_lambda=0.01,\n",
    "scaler=scaler)"
   ]
  },
  {
   "cell_type": "code",
   "execution_count": 9,
   "metadata": {},
   "outputs": [],
   "source": [
    "lossfun = nn.BCEWithLogitsLoss(pos_weight = torch.tensor(5))\n",
    "optimizer = optim.Adam(model.parameters(), lr = 0.01)"
   ]
  }
 ],
 "metadata": {
  "kernelspec": {
   "display_name": "Python 3",
   "language": "python",
   "name": "python3"
  },
  "language_info": {
   "codemirror_mode": {
    "name": "ipython",
    "version": 3
   },
   "file_extension": ".py",
   "mimetype": "text/x-python",
   "name": "python",
   "nbconvert_exporter": "python",
   "pygments_lexer": "ipython3",
   "version": "3.11.1"
  }
 },
 "nbformat": 4,
 "nbformat_minor": 2
}
